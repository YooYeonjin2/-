{
  "cells": [
    {
      "cell_type": "markdown",
      "metadata": {
        "id": "view-in-github",
        "colab_type": "text"
      },
      "source": [
        "<a href=\"https://colab.research.google.com/github/YooYeonjin2/-/blob/main/n222-random-forests/n222a-random-forests.ipynb\" target=\"_parent\"><img src=\"https://colab.research.google.com/assets/colab-badge.svg\" alt=\"Open In Colab\"/></a>"
      ]
    },
    {
      "cell_type": "markdown",
      "source": [
        "<img align=\"right\" src=\"https://ds-cs-images.s3.ap-northeast-2.amazonaws.com/Codestates_Fulllogo_Color.png\" width=100>\n",
        "\n",
        "## *AIB / SECTION 2 / SPRINT 2 / NOTE 2*\n",
        "\n",
        "# 📝 Assignment\n",
        "---"
      ],
      "metadata": {
        "id": "Mq9yoxezkjn9"
      }
    },
    {
      "cell_type": "markdown",
      "source": [
        "# 랜덤포레스트(Random Forests)\n",
        "\n",
        "### 1) 캐글 대회를 이어서 진행합니다. EDA, 데이터 전처리 부분을 업데이트 하세요.\n",
        "- EDA는 항상 완벽할 수 없지요 한 주간 계속 같은 데이터로 과제를 진행하므로 부족한 부분을 추가하거나 논하세요.\n",
        "- (지금은 feature engineering에 너무 시간을 들이지 마세요!)\n",
        "- Ordinal Encoding을 적용해 보세요.\n",
        "- **(Urclass Quiz) 다음 특성들 중에 순서를 고려한 Ordinal Encoding이 필요해 보이는 특성을 고르세요.**\n",
        "    1. opinion_h1n1_vacc_effective\n",
        "    2. state\n",
        "    3. marital\n",
        "    4. employment_occupation\n"
      ],
      "metadata": {
        "id": "7IXUfiQ2UKj6"
      }
    },
    {
      "cell_type": "code",
      "execution_count": null,
      "source": [
        "!pip install category_encoders"
      ],
      "outputs": [],
      "metadata": {
        "id": "lUm5rw7FkjoJ"
      }
    },
    {
      "cell_type": "code",
      "source": [
        "import pandas as pd\n",
        "target = 'vacc_h1n1_f'\n",
        "train = pd.merge(pd.read_csv('https://ds-lecture-data.s3.ap-northeast-2.amazonaws.com/vacc_flu/train.csv'),\n",
        "                 pd.read_csv('https://ds-lecture-data.s3.ap-northeast-2.amazonaws.com/vacc_flu/train_labels.csv')[target], left_index=True, right_index=True)\n",
        "test = pd.read_csv('https://ds-lecture-data.s3.ap-northeast-2.amazonaws.com/vacc_flu/test.csv')\n",
        "sample_submission = pd.read_csv('https://ds-lecture-data.s3.ap-northeast-2.amazonaws.com/vacc_flu/submission.csv')"
      ],
      "metadata": {
        "id": "1W1JScV9rN_p"
      },
      "execution_count": 2,
      "outputs": []
    },
    {
      "cell_type": "code",
      "source": [
        "train['employment_occupation'].value_counts()"
      ],
      "metadata": {
        "id": "VG9Z7R_4zcMr",
        "outputId": "bdb76252-11fc-4c49-8c89-3953d718063f",
        "colab": {
          "base_uri": "https://localhost:8080/"
        }
      },
      "execution_count": 4,
      "outputs": [
        {
          "output_type": "execute_result",
          "data": {
            "text/plain": [
              "Management Occupations                                       2188\n",
              "Office and Administrative Support Occupations                1931\n",
              "Education, Training, and Library Occupations                 1609\n",
              "Healthcare Practitioners and Technical Occupations           1535\n",
              "Sales and Related Occupations                                1404\n",
              "Business and Financial Operations Occupations                 946\n",
              "Construction and Extraction Occupations                       672\n",
              "Production Occupations                                        614\n",
              "Transportation and Material Moving Occupations                612\n",
              "Computer and Mathematical Occupations                         589\n",
              "Food Preparation and Serving Related Occupations              523\n",
              "Arts, Design, Entertainment, Sports and Media Occupations     457\n",
              "Architecture and Engineering Occupations                      447\n",
              "Community and Social Services Occupations                     435\n",
              "Personal Care and Service Occupations                         429\n",
              "Building and Grounds Cleaning and Maintenance Occupations     419\n",
              "Installation, Maintenance, and Repair Occupations             368\n",
              "Healthcare Support Occupations                                367\n",
              "Not ascertained                                               341\n",
              "Legal Occupations                                             293\n",
              "Life, Physical, and Social Science Occupations                291\n",
              "Protective Service Occupations                                288\n",
              "Military Specific Occupations                                 196\n",
              "Farming, Fishing, and Forestry Occupations                    135\n",
              "Refused, classified                                            76\n",
              "Name: employment_occupation, dtype: int64"
            ]
          },
          "metadata": {},
          "execution_count": 4
        }
      ]
    },
    {
      "cell_type": "code",
      "source": [
        "from sklearn.model_selection import train_test_split\n",
        "train, val = train_test_split(train, train_size=0.80, test_size=0.20, stratify = train[target], random_state=2)\n",
        "train.shape, val.shape, test.shape"
      ],
      "metadata": {
        "id": "MW_j0N4gsikd",
        "outputId": "7855db7c-a786-41c2-a11b-ace9a9906bfe",
        "colab": {
          "base_uri": "https://localhost:8080/"
        }
      },
      "execution_count": 5,
      "outputs": [
        {
          "output_type": "execute_result",
          "data": {
            "text/plain": [
              "((33723, 39), (8431, 39), (28104, 38))"
            ]
          },
          "metadata": {},
          "execution_count": 5
        }
      ]
    },
    {
      "cell_type": "code",
      "source": [
        "def engineer(df):\n",
        "    \"\"\"특성을 엔지니어링 하는 함수입니다.\"\"\"\n",
        "    \n",
        "    # 높은 카디널리티를 가지는 특성을 제거합니다.\n",
        "    selected_cols = df.select_dtypes(include=['number', 'object'])\n",
        "    colnames = selected_cols.columns.tolist()\n",
        "    labels = selected_cols.nunique()\n",
        "    \n",
        "    selected_features = labels[labels <= 30].index.tolist()\n",
        "    df = df[selected_features]\n",
        "    \n",
        "    # 새로운 특성을 생성합니다.\n",
        "    behaviorals = [col for col in df.columns if 'behavioral' in col] \n",
        "    df['behaviorals'] = df[behaviorals].sum(axis=1)\n",
        "    \n",
        "    \n",
        "    dels = [col for col in df.columns if ('employment' in col or 'seas' in col)]\n",
        "    df.drop(columns=dels, inplace=True)\n",
        "        \n",
        "    return df\n",
        "\n",
        "\n",
        "train = engineer(train)\n",
        "val = engineer(val)\n",
        "test = engineer(test)"
      ],
      "metadata": {
        "id": "A7htmnnhwXFE"
      },
      "execution_count": 6,
      "outputs": []
    },
    {
      "cell_type": "code",
      "source": [
        "features = train.drop(columns=[target]).columns\n",
        "\n",
        "X_train = train[features]\n",
        "y_train = train[target]\n",
        "X_val = val[features]\n",
        "y_val = val[target]\n",
        "X_test = test[features]"
      ],
      "metadata": {
        "id": "POufxki9xwxh"
      },
      "execution_count": 7,
      "outputs": []
    },
    {
      "cell_type": "code",
      "source": [
        "from category_encoders import OrdinalEncoder\n",
        "encoder = OrdinalEncoder()\n",
        "X_train_encoded = encoder.fit(X_train)"
      ],
      "metadata": {
        "id": "_4S_pL9Qx37y"
      },
      "execution_count": 8,
      "outputs": []
    },
    {
      "cell_type": "markdown",
      "source": [
        "### 2) 랜덤포레스트 모델을 적용한 후의 결과를 캐글에 제출하세요.\n",
        "- 랜덤포레스트를 적용하고 성능이 오히려 떨어졌을 수도 있습니다! 만약 그렇다면 이유를 본인 논리로 분석해 보세요.\n",
        "- **(Urclass Quiz) 캐글 Leaderboard의 본인 Score를 제출하세요.**"
      ],
      "metadata": {
        "id": "4iVXOX8nkjoL"
      }
    },
    {
      "cell_type": "code",
      "execution_count": 16,
      "source": [
        "from sklearn.ensemble import RandomForestClassifier\n",
        "from sklearn.impute import SimpleImputer \n",
        "from sklearn.pipeline import make_pipeline\n",
        "pipe_ord = make_pipeline(\n",
        "    OrdinalEncoder(), \n",
        "    SimpleImputer(), \n",
        "    RandomForestClassifier(random_state=10, n_jobs=-1, oob_score=True)\n",
        ")\n",
        "\n",
        "pipe_ord.fit(X_train, y_train)\n",
        "print('검증 정확도: ', pipe_ord.score(X_val, y_val))"
      ],
      "outputs": [
        {
          "output_type": "stream",
          "name": "stdout",
          "text": [
            "검증 정확도:  0.8239829201755426\n"
          ]
        }
      ],
      "metadata": {
        "id": "BhPDh1pnkjoM",
        "colab": {
          "base_uri": "https://localhost:8080/"
        },
        "outputId": "3ed1f9a7-0575-40ca-8856-7c142b79bf5f"
      }
    },
    {
      "cell_type": "code",
      "source": [
        "y_test_pred = pipe_ord.predict(X_test)\n",
        "submission = sample_submission\n",
        "submission[target] = y_test_pred.copy()\n",
        "submission.to_csv('submission_.csv',index=False)"
      ],
      "metadata": {
        "id": "ux2QrR5B6K3b"
      },
      "execution_count": 18,
      "outputs": []
    },
    {
      "cell_type": "markdown",
      "source": [
        "## 🔥 도전과제(Github - Discussion)"
      ],
      "metadata": {
        "id": "Ki32qZmdkjoO"
      }
    },
    {
      "cell_type": "markdown",
      "source": [
        "### 3) 수업에 사용하지 않은 다른 종류의 [category_encoders](http://contrib.scikit-learn.org/category_encoders/)을 2개 이상 사용해 결과를 공유해 보시고, 다음 질문에 대해 서로 논의해 보세요. \n",
        "\n",
        "- 사용하신 encoder는 각각 어떤 장단점을 갖고 있으며, 어떤 상황에서 사용하면 좋을까요? \n",
        "\n",
        "### 4) 왜 트리모델에서는 ordinal encoding을 주로 사용하며 (one-hot encoding대신), 범주형 자료를 ordinal encoding으로 사용해도 되는 이유는 무엇이라고 생각하시는지 논의해 보세요\n"
      ],
      "metadata": {
        "id": "lgbTzwA9kjoP"
      }
    },
    {
      "cell_type": "markdown",
      "source": [
        "## 참고자료\n",
        "\n",
        "- [Random Forests for Complete Beginners](https://victorzhou.com/blog/intro-to-random-forests/)"
      ],
      "metadata": {
        "id": "1HeHEKG1kjoQ"
      }
    }
  ],
  "metadata": {
    "kernelspec": {
      "display_name": "Python 3",
      "language": "python",
      "name": "python3"
    },
    "language_info": {
      "codemirror_mode": {
        "name": "ipython",
        "version": 3
      },
      "file_extension": ".py",
      "mimetype": "text/x-python",
      "name": "python",
      "nbconvert_exporter": "python",
      "pygments_lexer": "ipython3",
      "version": "3.7.7"
    },
    "colab": {
      "provenance": [],
      "include_colab_link": true
    }
  },
  "nbformat": 4,
  "nbformat_minor": 0
}